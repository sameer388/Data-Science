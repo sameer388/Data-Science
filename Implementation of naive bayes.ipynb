{
 "cells": [
  {
   "cell_type": "code",
   "execution_count": 1,
   "id": "6d9acde4",
   "metadata": {},
   "outputs": [],
   "source": [
    "import numpy as np\n",
    "import pandas as pd"
   ]
  },
  {
   "cell_type": "code",
   "execution_count": 2,
   "id": "63f0e7d9",
   "metadata": {},
   "outputs": [],
   "source": [
    "## Here we define the fit function which takes x_train,y_train as input and gives the \n",
    "## count of all the thing what we required in calculating the value of probability\n",
    "def fit(x_train,y_train):\n",
    "    result = {}     ## store the value of all the thing in it\n",
    "    result['total_data'] = len(y_train) ## count the total no of data in y_train\n",
    "    class_value = set(y_train)      ## find all the distinct value in y_train\n",
    "    for current_class in class_value:    ## going to all the class of y\n",
    "        result[current_class] = {}       ## declare current class as also dictionary\n",
    "        current_class_rows = (y_train == current_class)\n",
    "        current_xtrain = x_train[current_class_rows]    ## find x data which is belongs to the current class\n",
    "        current_ytrain = y_train[current_class_rows]    ## find y data which is belongs to the current class\n",
    "        result[current_class]['total_count'] = len(current_ytrain)  ## storing the length of current class\n",
    "        num_features = x_train.shape[1]   ## total no of features in data\n",
    "        for j in range(1,num_features+1):   ##going to all the features of data\n",
    "            result[current_class][j] = {}  ## make that feature a dictionary\n",
    "            all_possible_value  = set(x_train[:,j-1])  ##finding the total distinct value in x_train\n",
    "            for current_value in all_possible_value:\n",
    "                result[current_class][j][current_value] = (current_xtrain[:,j-1] == current_value).sum()\n",
    "                ## it take all the true as 1 and false as 0 \n",
    "    return result   \n",
    "        "
   ]
  },
  {
   "cell_type": "code",
   "execution_count": 3,
   "id": "e7c02357",
   "metadata": {},
   "outputs": [],
   "source": [
    "## define the probability function which gives us the probability for the given condition\n",
    "## we also use here laplace correction in finding the probability\n",
    "## we also change our count with log so that if the count is very less then we can also \n",
    "## consider our probability because when the probabiliy function is very less then their multiplication\n",
    "## became more less \n",
    "def probability(dictionary,x,current_class):\n",
    "    #output = dictionary[current_class]['total_count']/dictionary['total_data']\n",
    "    output = np.log(dictionary[current_class]['total_count'])- np.log(dictionary['total_data'])\n",
    "    num_features = len(dictionary[current_class].keys()) - 1\n",
    "    for j in range(1,num_features + 1):\n",
    "        xj = x[j-1]\n",
    "        count_current_class_with_value_xj = dictionary[current_class][j][xj] + 1\n",
    "        count_current_class = dictionary[current_class]['total_count'] + len(dictionary[current_class][j].keys())\n",
    "        #current_xj_probability = count_current_class_with_value_xj/count_current_class\n",
    "        current_xj_probability = np.log(count_current_class_with_value_xj) - np.log(count_current_class)\n",
    "        #output = output * current_xj_probability\n",
    "        output = output + current_xj_probability\n",
    "    return output\n",
    "    \n",
    "    "
   ]
  },
  {
   "cell_type": "code",
   "execution_count": 4,
   "id": "02b1a652",
   "metadata": {},
   "outputs": [],
   "source": [
    "## this takes one single row and compare it's value with all probability and give\n",
    "## class of that data\n",
    "def predictSinglePoint(dictionary,x):\n",
    "    FirstTrue = True    ## used for checking the first point \n",
    "    best_p = -1000    ## best probability\n",
    "    best_class = -1\n",
    "    classes = dictionary.keys()   ## all the classes\n",
    "    for current_class in classes:\n",
    "        if  current_class == 'total_data':  ## we have to skip this key \n",
    "            continue\n",
    "        p_currentclass = probability(dictionary,x,current_class)\n",
    "        if FirstTrue or (p_currentclass > best_p): ## firstTrue is only run for first time\n",
    "            best_p = p_currentclass \n",
    "            best_class = current_class\n",
    "        FirstTrue = False ## we do it false after the first iteration\n",
    "    return best_class"
   ]
  },
  {
   "cell_type": "code",
   "execution_count": 5,
   "id": "1a76f4c8",
   "metadata": {},
   "outputs": [],
   "source": [
    "## define the predict function which takes the dictionary and x_test and\n",
    "## give the value of y_pred\n",
    "def pred(dictionary,x_test):\n",
    "    y_pred = []    ## y_pred array for storing the value\n",
    "    for x in x_test:\n",
    "        x_class = predictSinglePoint(dictionary,x)   ## this take one row of data and predict the value\n",
    "        y_pred.append(x_class)   ## append the result into y_predict\n",
    "    return y_pred"
   ]
  },
  {
   "cell_type": "code",
   "execution_count": 6,
   "id": "dac4bf15",
   "metadata": {},
   "outputs": [],
   "source": [
    "## we make this function to convert continuous data \n",
    "## into discrete value\n",
    "def makeLabelled(column):\n",
    "    second_limit = column.mean()\n",
    "    first_limit = 0.5*second_limit\n",
    "    third_limit = 1.5*second_limit\n",
    "    for i in range(0,len(column)):\n",
    "        if column[i] < first_limit:\n",
    "            column[i] = 0\n",
    "        elif column[i] < second_limit:\n",
    "            column[i] = 1\n",
    "        elif column[i] < third_limit:\n",
    "            column[i] = 2\n",
    "        else:\n",
    "            column[i] = 3\n",
    "    return column"
   ]
  },
  {
   "cell_type": "code",
   "execution_count": 7,
   "id": "33bc7ae9",
   "metadata": {},
   "outputs": [
    {
     "data": {
      "text/html": [
       "<div>\n",
       "<style scoped>\n",
       "    .dataframe tbody tr th:only-of-type {\n",
       "        vertical-align: middle;\n",
       "    }\n",
       "\n",
       "    .dataframe tbody tr th {\n",
       "        vertical-align: top;\n",
       "    }\n",
       "\n",
       "    .dataframe thead th {\n",
       "        text-align: right;\n",
       "    }\n",
       "</style>\n",
       "<table border=\"1\" class=\"dataframe\">\n",
       "  <thead>\n",
       "    <tr style=\"text-align: right;\">\n",
       "      <th></th>\n",
       "      <th>0</th>\n",
       "      <th>1</th>\n",
       "      <th>2</th>\n",
       "      <th>3</th>\n",
       "    </tr>\n",
       "  </thead>\n",
       "  <tbody>\n",
       "    <tr>\n",
       "      <th>0</th>\n",
       "      <td>5.1</td>\n",
       "      <td>3.5</td>\n",
       "      <td>1.4</td>\n",
       "      <td>0.2</td>\n",
       "    </tr>\n",
       "    <tr>\n",
       "      <th>1</th>\n",
       "      <td>4.9</td>\n",
       "      <td>3.0</td>\n",
       "      <td>1.4</td>\n",
       "      <td>0.2</td>\n",
       "    </tr>\n",
       "    <tr>\n",
       "      <th>2</th>\n",
       "      <td>4.7</td>\n",
       "      <td>3.2</td>\n",
       "      <td>1.3</td>\n",
       "      <td>0.2</td>\n",
       "    </tr>\n",
       "    <tr>\n",
       "      <th>3</th>\n",
       "      <td>4.6</td>\n",
       "      <td>3.1</td>\n",
       "      <td>1.5</td>\n",
       "      <td>0.2</td>\n",
       "    </tr>\n",
       "    <tr>\n",
       "      <th>4</th>\n",
       "      <td>5.0</td>\n",
       "      <td>3.6</td>\n",
       "      <td>1.4</td>\n",
       "      <td>0.2</td>\n",
       "    </tr>\n",
       "    <tr>\n",
       "      <th>...</th>\n",
       "      <td>...</td>\n",
       "      <td>...</td>\n",
       "      <td>...</td>\n",
       "      <td>...</td>\n",
       "    </tr>\n",
       "    <tr>\n",
       "      <th>145</th>\n",
       "      <td>6.7</td>\n",
       "      <td>3.0</td>\n",
       "      <td>5.2</td>\n",
       "      <td>2.3</td>\n",
       "    </tr>\n",
       "    <tr>\n",
       "      <th>146</th>\n",
       "      <td>6.3</td>\n",
       "      <td>2.5</td>\n",
       "      <td>5.0</td>\n",
       "      <td>1.9</td>\n",
       "    </tr>\n",
       "    <tr>\n",
       "      <th>147</th>\n",
       "      <td>6.5</td>\n",
       "      <td>3.0</td>\n",
       "      <td>5.2</td>\n",
       "      <td>2.0</td>\n",
       "    </tr>\n",
       "    <tr>\n",
       "      <th>148</th>\n",
       "      <td>6.2</td>\n",
       "      <td>3.4</td>\n",
       "      <td>5.4</td>\n",
       "      <td>2.3</td>\n",
       "    </tr>\n",
       "    <tr>\n",
       "      <th>149</th>\n",
       "      <td>5.9</td>\n",
       "      <td>3.0</td>\n",
       "      <td>5.1</td>\n",
       "      <td>1.8</td>\n",
       "    </tr>\n",
       "  </tbody>\n",
       "</table>\n",
       "<p>150 rows × 4 columns</p>\n",
       "</div>"
      ],
      "text/plain": [
       "       0    1    2    3\n",
       "0    5.1  3.5  1.4  0.2\n",
       "1    4.9  3.0  1.4  0.2\n",
       "2    4.7  3.2  1.3  0.2\n",
       "3    4.6  3.1  1.5  0.2\n",
       "4    5.0  3.6  1.4  0.2\n",
       "..   ...  ...  ...  ...\n",
       "145  6.7  3.0  5.2  2.3\n",
       "146  6.3  2.5  5.0  1.9\n",
       "147  6.5  3.0  5.2  2.0\n",
       "148  6.2  3.4  5.4  2.3\n",
       "149  5.9  3.0  5.1  1.8\n",
       "\n",
       "[150 rows x 4 columns]"
      ]
     },
     "execution_count": 7,
     "metadata": {},
     "output_type": "execute_result"
    }
   ],
   "source": [
    "from sklearn import datasets\n",
    "iris = datasets.load_iris()\n",
    "x = iris.data\n",
    "y = iris.target\n",
    "df = pd.DataFrame(x)\n",
    "df"
   ]
  },
  {
   "cell_type": "code",
   "execution_count": 8,
   "id": "f3d3e0d6",
   "metadata": {},
   "outputs": [
    {
     "name": "stdout",
     "output_type": "stream",
     "text": [
      "(150, 4)\n"
     ]
    }
   ],
   "source": [
    "## convert the value of all the column\n",
    "print(x.shape)\n",
    "for i in range(0,x.shape[-1]):\n",
    "    x[:,i] = makeLabelled(x[:,i])\n"
   ]
  },
  {
   "cell_type": "code",
   "execution_count": 9,
   "id": "48ea5834",
   "metadata": {},
   "outputs": [],
   "source": [
    "from sklearn import model_selection\n",
    "x_train,x_test,y_train,y_test = model_selection.train_test_split(x,y,test_size = 0.25,random_state = 0)\n"
   ]
  },
  {
   "cell_type": "code",
   "execution_count": 10,
   "id": "8d44714c",
   "metadata": {},
   "outputs": [],
   "source": [
    "result = fit(x_train,y_train)\n"
   ]
  },
  {
   "cell_type": "code",
   "execution_count": 11,
   "id": "6b6ff7ed",
   "metadata": {},
   "outputs": [
    {
     "name": "stdout",
     "output_type": "stream",
     "text": [
      "[2, 1, 0, 2, 0, 2, 0, 1, 1, 1, 1, 1, 1, 1, 1, 0, 1, 1, 0, 0, 2, 1, 0, 0, 2, 0, 0, 1, 1, 0, 2, 1, 0, 2, 2, 1, 0, 1]\n",
      "[2 1 0 2 0 2 0 1 1 1 2 1 1 1 1 0 1 1 0 0 2 1 0 0 2 0 0 1 1 0 2 1 0 2 2 1 0\n",
      " 1]\n"
     ]
    }
   ],
   "source": [
    "y_pred = pred(result,x_test)\n",
    "print(y_pred)\n",
    "print(y_test)"
   ]
  },
  {
   "cell_type": "code",
   "execution_count": 12,
   "id": "857529dd",
   "metadata": {
    "scrolled": true
   },
   "outputs": [
    {
     "name": "stdout",
     "output_type": "stream",
     "text": [
      "[[13  0  0]\n",
      " [ 0 16  0]\n",
      " [ 0  1  8]]\n",
      "              precision    recall  f1-score   support\n",
      "\n",
      "           0       1.00      1.00      1.00        13\n",
      "           1       0.94      1.00      0.97        16\n",
      "           2       1.00      0.89      0.94         9\n",
      "\n",
      "    accuracy                           0.97        38\n",
      "   macro avg       0.98      0.96      0.97        38\n",
      "weighted avg       0.98      0.97      0.97        38\n",
      "\n"
     ]
    }
   ],
   "source": [
    "from sklearn.metrics import confusion_matrix,classification_report\n",
    "print(confusion_matrix(y_test,y_pred))\n",
    "print(classification_report(y_test,y_pred ))"
   ]
  },
  {
   "cell_type": "code",
   "execution_count": 14,
   "id": "5ade88a5",
   "metadata": {},
   "outputs": [
    {
     "name": "stdout",
     "output_type": "stream",
     "text": [
      "[[11  2  0]\n",
      " [ 0 16  0]\n",
      " [ 0  3  6]]\n",
      "              precision    recall  f1-score   support\n",
      "\n",
      "           0       1.00      0.85      0.92        13\n",
      "           1       0.76      1.00      0.86        16\n",
      "           2       1.00      0.67      0.80         9\n",
      "\n",
      "    accuracy                           0.87        38\n",
      "   macro avg       0.92      0.84      0.86        38\n",
      "weighted avg       0.90      0.87      0.87        38\n",
      "\n"
     ]
    }
   ],
   "source": [
    "from sklearn.naive_bayes import GaussianNB\n",
    "clf = GaussianNB()\n",
    "clf.fit(x_train,y_train)\n",
    "y_pred = clf.predict(x_test)\n",
    "print(confusion_matrix(y_test,y_pred))\n",
    "print(classification_report(y_test,y_pred ))"
   ]
  }
 ],
 "metadata": {
  "kernelspec": {
   "display_name": "Python 3",
   "language": "python",
   "name": "python3"
  },
  "language_info": {
   "codemirror_mode": {
    "name": "ipython",
    "version": 3
   },
   "file_extension": ".py",
   "mimetype": "text/x-python",
   "name": "python",
   "nbconvert_exporter": "python",
   "pygments_lexer": "ipython3",
   "version": "3.8.8"
  }
 },
 "nbformat": 4,
 "nbformat_minor": 5
}
