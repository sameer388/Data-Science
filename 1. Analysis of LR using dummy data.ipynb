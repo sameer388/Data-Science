{
 "cells": [
  {
   "cell_type": "code",
   "execution_count": 1,
   "id": "61e0234d",
   "metadata": {},
   "outputs": [],
   "source": [
    "import numpy as np"
   ]
  },
  {
   "cell_type": "code",
   "execution_count": 2,
   "id": "c7839576",
   "metadata": {},
   "outputs": [],
   "source": [
    "data = np.loadtxt('D:/Data Science/Coding Ninjas Data Science/26. Linear Regression/data.csv',delimiter = ',')\n",
    "x = data[:,0].reshape(-1,1) ## load the first column of data\n",
    "## we use reshape to change it into 2d array \n",
    "y = data[:,1] ## load the second column of data i.e output in this case"
   ]
  },
  {
   "cell_type": "code",
   "execution_count": 3,
   "id": "12951d9c",
   "metadata": {},
   "outputs": [
    {
     "name": "stdout",
     "output_type": "stream",
     "text": [
      "(75, 1)\n",
      "(75,)\n",
      "(25, 1)\n",
      "(25,)\n"
     ]
    }
   ],
   "source": [
    "from sklearn import model_selection\n",
    "x_train,x_test,y_train,y_test = model_selection.train_test_split(x,y)\n",
    "print(x_train.shape)\n",
    "print(y_train.shape)\n",
    "print(x_test.shape)\n",
    "print(y_test.shape)"
   ]
  },
  {
   "cell_type": "code",
   "execution_count": 4,
   "id": "6e18d9e8",
   "metadata": {},
   "outputs": [
    {
     "data": {
      "text/plain": [
       "LinearRegression()"
      ]
     },
     "execution_count": 4,
     "metadata": {},
     "output_type": "execute_result"
    }
   ],
   "source": [
    "from sklearn.linear_model import LinearRegression\n",
    "alg1 = LinearRegression()\n",
    "alg1.fit(x_train,y_train) ## here we can see a error which say that reshape your array in 2d array\n",
    "## so this algorithm is define for 2d array "
   ]
  },
  {
   "cell_type": "code",
   "execution_count": 5,
   "id": "c3738aee",
   "metadata": {},
   "outputs": [
    {
     "name": "stdout",
     "output_type": "stream",
     "text": [
      "[1.39059655]\n",
      "4.466036258964692\n"
     ]
    }
   ],
   "source": [
    "## let's see the value of m and c in the function which it created\n",
    "print(alg1.coef_)\n",
    "print(alg1.intercept_)"
   ]
  },
  {
   "cell_type": "code",
   "execution_count": 6,
   "id": "94be4681",
   "metadata": {},
   "outputs": [
    {
     "data": {
      "image/png": "[encoded data removed]",
      "text/plain": [
       "<Figure size 432x288 with 1 Axes>"
      ]
     },
     "metadata": {
      "needs_background": "light"
     },
     "output_type": "display_data"
    }
   ],
   "source": [
    "## Now let's plot this for our train data and see how good it's performing we are going to plot the graph of y = mx+c \n",
    "## and scatter our training data\n",
    "import matplotlib.pyplot as plt\n",
    "m = alg1.coef_[0]\n",
    "c = alg1.intercept_\n",
    "x_line = np.arange(30,70,0.1)\n",
    "y_line = m*x_line + c\n",
    "x_train = x_train.reshape(75) ## since we previously change into this in 2d array now we again change this into 1d array\n",
    "plt.scatter(x_train,y_train)\n",
    "plt.plot(x_line,y_line,color = 'r',linewidth = 4)\n",
    "plt.show()"
   ]
  },
  {
   "cell_type": "code",
   "execution_count": 7,
   "id": "2aa56baa",
   "metadata": {
    "scrolled": true
   },
   "outputs": [
    {
     "data": {
      "image/png": "[encoded data removed]",
      "text/plain": [
       "<Figure size 432x288 with 1 Axes>"
      ]
     },
     "metadata": {
      "needs_background": "light"
     },
     "output_type": "display_data"
    }
   ],
   "source": [
    "##Now let's see how it's performing on our testing data\n",
    "m = alg1.coef_[0]\n",
    "c = alg1.intercept_\n",
    "x_line = np.arange(30,70,0.1)\n",
    "y_line = m*x_line + c\n",
    "x_test = x_test.reshape(25) ## since we previously change into this in 2d array now we again change this into 1d array\n",
    "plt.scatter(x_test,y_test)\n",
    "plt.plot(x_line,y_line,color = 'r',linewidth = 4)\n",
    "plt.show()"
   ]
  },
  {
   "cell_type": "code",
   "execution_count": 8,
   "id": "7ce61df8",
   "metadata": {},
   "outputs": [
    {
     "name": "stdout",
     "output_type": "stream",
     "text": [
      "[[1]\n",
      " [2]\n",
      " [3]\n",
      " [4]]\n",
      "[[1 2 3 4]]\n"
     ]
    }
   ],
   "source": [
    "ar = np.array([1,2,3,4])\n",
    "print(ar.reshape(-1,1))\n",
    "print(ar.reshape(1,-1))"
   ]
  },
  {
   "cell_type": "markdown",
   "id": "b3b2aa92",
   "metadata": {},
   "source": [
    "# Score function - for prediction the score of data\n"
   ]
  },
  {
   "cell_type": "code",
   "execution_count": 11,
   "id": "8db14abe",
   "metadata": {},
   "outputs": [
    {
     "data": {
      "text/plain": [
       "(0.5726995596487828, 0.603241524875463)"
      ]
     },
     "execution_count": 11,
     "metadata": {},
     "output_type": "execute_result"
    }
   ],
   "source": [
    "score_test = alg1.score(x_test.reshape(-1,1),y_test)\n",
    "score_train = alg1.score(x_train.reshape(-1,1),y_train)\n",
    "score_test,score_train"
   ]
  },
  {
   "cell_type": "code",
   "execution_count": null,
   "id": "6fd46eaa",
   "metadata": {},
   "outputs": [],
   "source": []
  }
 ],
 "metadata": {
  "kernelspec": {
   "display_name": "Python 3",
   "language": "python",
   "name": "python3"
  },
  "language_info": {
   "codemirror_mode": {
    "name": "ipython",
    "version": 3
   },
   "file_extension": ".py",
   "mimetype": "text/x-python",
   "name": "python",
   "nbconvert_exporter": "python",
   "pygments_lexer": "ipython3",
   "version": "3.8.8"
  }
 },
 "nbformat": 4,
 "nbformat_minor": 5
}
